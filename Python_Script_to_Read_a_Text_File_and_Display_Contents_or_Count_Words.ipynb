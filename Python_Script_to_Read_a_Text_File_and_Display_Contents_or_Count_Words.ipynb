{
  "nbformat": 4,
  "nbformat_minor": 0,
  "metadata": {
    "colab": {
      "provenance": [],
      "authorship_tag": "ABX9TyOZsBgs6UDKXkUfD07oNwE9"
    },
    "kernelspec": {
      "name": "python3",
      "display_name": "Python 3"
    },
    "language_info": {
      "name": "python"
    }
  },
  "cells": [
    {
      "cell_type": "code",
      "execution_count": null,
      "metadata": {
        "id": "1xgUsZDNta--"
      },
      "outputs": [],
      "source": [
        "def read_file_and_analyze():\n",
        "    \"\"\"Reads a text file and provides options to display content or count words\"\"\"\n",
        "\n",
        "    print(\"Text File Analyzer\")\n",
        "    print(\"-----------------\")\n",
        "\n",
        "    # Get the file path from the user\n",
        "    file_path = input(\"Enter the path to your text file: \")\n",
        "\n",
        "    try:\n",
        "        # Open and read the file\n",
        "        with open(file_path, 'r') as file:\n",
        "            content = file.read()\n",
        "\n",
        "        while True:\n",
        "            print(\"\\nOptions:\")\n",
        "            print(\"1. Display file contents\")\n",
        "            print(\"2. Count number of words\")\n",
        "            print(\"3. Exit\")\n",
        "\n",
        "            choice = input(\"Enter your choice (1-3): \")\n",
        "\n",
        "            if choice == '1':\n",
        "                # Display file contents\n",
        "                print(\"\\nFile Contents:\")\n",
        "                print(\"--------------\")\n",
        "                print(content)\n",
        "\n",
        "            elif choice == '2':\n",
        "                # Count words (simple method)\n",
        "                words = content.split()\n",
        "                word_count = len(words)\n",
        "                print(f\"\\nThe file contains {word_count} words.\")\n",
        "\n",
        "            elif choice == '3':\n",
        "                print(\"Goodbye!\")\n",
        "                break\n",
        "\n",
        "            else:\n",
        "                print(\"Invalid choice. Please enter 1, 2, or 3.\")\n",
        "\n",
        "    except FileNotFoundError:\n",
        "        print(f\"Error: The file '{file_path}' was not found.\")\n",
        "    except Exception as e:\n",
        "        print(f\"An error occurred: {e}\")\n",
        "\n",
        "# Run the program\n",
        "if __name__ == \"__main__\":\n",
        "    read_file_and_analyze()"
      ]
    }
  ]
}
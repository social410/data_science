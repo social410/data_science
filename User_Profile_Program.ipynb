{
  "nbformat": 4,
  "nbformat_minor": 0,
  "metadata": {
    "colab": {
      "provenance": [],
      "authorship_tag": "ABX9TyOcNIL1dQ++1Ctu93GU0D/e"
    },
    "kernelspec": {
      "name": "python3",
      "display_name": "Python 3"
    },
    "language_info": {
      "name": "python"
    }
  },
  "cells": [
    {
      "cell_type": "code",
      "execution_count": null,
      "metadata": {
        "colab": {
          "base_uri": "https://localhost:8080/"
        },
        "id": "osIMmsa8ux3C",
        "outputId": "9b1860de-e72c-4dad-cc17-69771218dff4"
      },
      "outputs": [
        {
          "output_type": "stream",
          "name": "stdout",
          "text": [
            "Welcome to the User Profile Creator!\n",
            "Let's create your profile.\n",
            "\n"
          ]
        }
      ],
      "source": [
        "# Simple User Profile Program\n",
        "\n",
        "print(\"Welcome to the User Profile Creator!\")\n",
        "print(\"Let's create your profile.\\n\")\n",
        "\n",
        "# Collect user information\n",
        "name = input(\"What is your name? \")\n",
        "age = input(\"How old are you? \")\n",
        "favorite_color = input(\"What is your favorite color? \")\n",
        "hobby = input(\"What do you like to do for fun? \")\n",
        "dream_job = input(\"What is your dream job? \")\n",
        "\n",
        "# Display the profile\n",
        "print(\"\\nHere's your profile:\")\n",
        "print(\"=\" * 30)\n",
        "print(f\"Name: {name}\")\n",
        "print(f\"Age: {age}\")\n",
        "print(f\"Favorite Color: {favorite_color}\")\n",
        "print(f\"Hobby: {hobby}\")\n",
        "print(f\"Dream Job: {dream_job}\")\n",
        "print(\"=\" * 30)\n",
        "\n",
        "print(\"\\nThank you for creating your profile!\")"
      ]
    },
    {
      "cell_type": "code",
      "source": [],
      "metadata": {
        "id": "MFH5dlzPu9LN"
      },
      "execution_count": null,
      "outputs": []
    }
  ]
}